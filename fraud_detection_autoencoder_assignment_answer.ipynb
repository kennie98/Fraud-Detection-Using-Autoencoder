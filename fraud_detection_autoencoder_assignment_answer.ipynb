{
  "nbformat": 4,
  "nbformat_minor": 0,
  "metadata": {
    "kernelspec": {
      "name": "python3",
      "display_name": "Python 3"
    },
    "language_info": {
      "codemirror_mode": {
        "name": "ipython",
        "version": 3
      },
      "file_extension": ".py",
      "mimetype": "text/x-python",
      "name": "python",
      "nbconvert_exporter": "python",
      "pygments_lexer": "ipython3",
      "version": "3.6.7"
    },
    "colab": {
      "name": "fraud_detection_autoencoder-assignment.ipynb",
      "provenance": []
    },
    "accelerator": "TPU"
  },
  "cells": [
    {
      "cell_type": "markdown",
      "metadata": {
        "id": "8LAmYb5Tt0DO",
        "colab_type": "text"
      },
      "source": [
        "Here the goal is to find the detect fraudulent credit/debit card transactions.Everything except the time and amount has been reduced by a Principle Component Analysis (PCA) for privacy concerns."
      ]
    },
    {
      "cell_type": "code",
      "metadata": {
        "id": "L_wGbmzlt0DX",
        "colab_type": "code",
        "colab": {}
      },
      "source": [
        "import pandas as pd\n",
        "import numpy as np\n",
        "import matplotlib.pyplot as plt \n"
      ],
      "execution_count": 0,
      "outputs": []
    },
    {
      "cell_type": "code",
      "metadata": {
        "id": "qy02bCaLv8_5",
        "colab_type": "code",
        "colab": {
          "base_uri": "https://localhost:8080/",
          "height": 224
        },
        "outputId": "03237c63-58b8-4c32-d877-b2d584a6a566"
      },
      "source": [
        "df = pd.read_csv(\"creditcard.csv\")\n",
        "df.head()"
      ],
      "execution_count": 12,
      "outputs": [
        {
          "output_type": "execute_result",
          "data": {
            "text/html": [
              "<div>\n",
              "<style scoped>\n",
              "    .dataframe tbody tr th:only-of-type {\n",
              "        vertical-align: middle;\n",
              "    }\n",
              "\n",
              "    .dataframe tbody tr th {\n",
              "        vertical-align: top;\n",
              "    }\n",
              "\n",
              "    .dataframe thead th {\n",
              "        text-align: right;\n",
              "    }\n",
              "</style>\n",
              "<table border=\"1\" class=\"dataframe\">\n",
              "  <thead>\n",
              "    <tr style=\"text-align: right;\">\n",
              "      <th></th>\n",
              "      <th>Time</th>\n",
              "      <th>V1</th>\n",
              "      <th>V2</th>\n",
              "      <th>V3</th>\n",
              "      <th>V4</th>\n",
              "      <th>V5</th>\n",
              "      <th>V6</th>\n",
              "      <th>V7</th>\n",
              "      <th>V8</th>\n",
              "      <th>V9</th>\n",
              "      <th>V10</th>\n",
              "      <th>V11</th>\n",
              "      <th>V12</th>\n",
              "      <th>V13</th>\n",
              "      <th>V14</th>\n",
              "      <th>V15</th>\n",
              "      <th>V16</th>\n",
              "      <th>V17</th>\n",
              "      <th>V18</th>\n",
              "      <th>V19</th>\n",
              "      <th>V20</th>\n",
              "      <th>V21</th>\n",
              "      <th>V22</th>\n",
              "      <th>V23</th>\n",
              "      <th>V24</th>\n",
              "      <th>V25</th>\n",
              "      <th>V26</th>\n",
              "      <th>V27</th>\n",
              "      <th>V28</th>\n",
              "      <th>Amount</th>\n",
              "      <th>Class</th>\n",
              "    </tr>\n",
              "  </thead>\n",
              "  <tbody>\n",
              "    <tr>\n",
              "      <th>0</th>\n",
              "      <td>0.0</td>\n",
              "      <td>-1.359807</td>\n",
              "      <td>-0.072781</td>\n",
              "      <td>2.536347</td>\n",
              "      <td>1.378155</td>\n",
              "      <td>-0.338321</td>\n",
              "      <td>0.462388</td>\n",
              "      <td>0.239599</td>\n",
              "      <td>0.098698</td>\n",
              "      <td>0.363787</td>\n",
              "      <td>0.090794</td>\n",
              "      <td>-0.551600</td>\n",
              "      <td>-0.617801</td>\n",
              "      <td>-0.991390</td>\n",
              "      <td>-0.311169</td>\n",
              "      <td>1.468177</td>\n",
              "      <td>-0.470401</td>\n",
              "      <td>0.207971</td>\n",
              "      <td>0.025791</td>\n",
              "      <td>0.403993</td>\n",
              "      <td>0.251412</td>\n",
              "      <td>-0.018307</td>\n",
              "      <td>0.277838</td>\n",
              "      <td>-0.110474</td>\n",
              "      <td>0.066928</td>\n",
              "      <td>0.128539</td>\n",
              "      <td>-0.189115</td>\n",
              "      <td>0.133558</td>\n",
              "      <td>-0.021053</td>\n",
              "      <td>149.62</td>\n",
              "      <td>0</td>\n",
              "    </tr>\n",
              "    <tr>\n",
              "      <th>1</th>\n",
              "      <td>0.0</td>\n",
              "      <td>1.191857</td>\n",
              "      <td>0.266151</td>\n",
              "      <td>0.166480</td>\n",
              "      <td>0.448154</td>\n",
              "      <td>0.060018</td>\n",
              "      <td>-0.082361</td>\n",
              "      <td>-0.078803</td>\n",
              "      <td>0.085102</td>\n",
              "      <td>-0.255425</td>\n",
              "      <td>-0.166974</td>\n",
              "      <td>1.612727</td>\n",
              "      <td>1.065235</td>\n",
              "      <td>0.489095</td>\n",
              "      <td>-0.143772</td>\n",
              "      <td>0.635558</td>\n",
              "      <td>0.463917</td>\n",
              "      <td>-0.114805</td>\n",
              "      <td>-0.183361</td>\n",
              "      <td>-0.145783</td>\n",
              "      <td>-0.069083</td>\n",
              "      <td>-0.225775</td>\n",
              "      <td>-0.638672</td>\n",
              "      <td>0.101288</td>\n",
              "      <td>-0.339846</td>\n",
              "      <td>0.167170</td>\n",
              "      <td>0.125895</td>\n",
              "      <td>-0.008983</td>\n",
              "      <td>0.014724</td>\n",
              "      <td>2.69</td>\n",
              "      <td>0</td>\n",
              "    </tr>\n",
              "    <tr>\n",
              "      <th>2</th>\n",
              "      <td>1.0</td>\n",
              "      <td>-1.358354</td>\n",
              "      <td>-1.340163</td>\n",
              "      <td>1.773209</td>\n",
              "      <td>0.379780</td>\n",
              "      <td>-0.503198</td>\n",
              "      <td>1.800499</td>\n",
              "      <td>0.791461</td>\n",
              "      <td>0.247676</td>\n",
              "      <td>-1.514654</td>\n",
              "      <td>0.207643</td>\n",
              "      <td>0.624501</td>\n",
              "      <td>0.066084</td>\n",
              "      <td>0.717293</td>\n",
              "      <td>-0.165946</td>\n",
              "      <td>2.345865</td>\n",
              "      <td>-2.890083</td>\n",
              "      <td>1.109969</td>\n",
              "      <td>-0.121359</td>\n",
              "      <td>-2.261857</td>\n",
              "      <td>0.524980</td>\n",
              "      <td>0.247998</td>\n",
              "      <td>0.771679</td>\n",
              "      <td>0.909412</td>\n",
              "      <td>-0.689281</td>\n",
              "      <td>-0.327642</td>\n",
              "      <td>-0.139097</td>\n",
              "      <td>-0.055353</td>\n",
              "      <td>-0.059752</td>\n",
              "      <td>378.66</td>\n",
              "      <td>0</td>\n",
              "    </tr>\n",
              "    <tr>\n",
              "      <th>3</th>\n",
              "      <td>1.0</td>\n",
              "      <td>-0.966272</td>\n",
              "      <td>-0.185226</td>\n",
              "      <td>1.792993</td>\n",
              "      <td>-0.863291</td>\n",
              "      <td>-0.010309</td>\n",
              "      <td>1.247203</td>\n",
              "      <td>0.237609</td>\n",
              "      <td>0.377436</td>\n",
              "      <td>-1.387024</td>\n",
              "      <td>-0.054952</td>\n",
              "      <td>-0.226487</td>\n",
              "      <td>0.178228</td>\n",
              "      <td>0.507757</td>\n",
              "      <td>-0.287924</td>\n",
              "      <td>-0.631418</td>\n",
              "      <td>-1.059647</td>\n",
              "      <td>-0.684093</td>\n",
              "      <td>1.965775</td>\n",
              "      <td>-1.232622</td>\n",
              "      <td>-0.208038</td>\n",
              "      <td>-0.108300</td>\n",
              "      <td>0.005274</td>\n",
              "      <td>-0.190321</td>\n",
              "      <td>-1.175575</td>\n",
              "      <td>0.647376</td>\n",
              "      <td>-0.221929</td>\n",
              "      <td>0.062723</td>\n",
              "      <td>0.061458</td>\n",
              "      <td>123.50</td>\n",
              "      <td>0</td>\n",
              "    </tr>\n",
              "    <tr>\n",
              "      <th>4</th>\n",
              "      <td>2.0</td>\n",
              "      <td>-1.158233</td>\n",
              "      <td>0.877737</td>\n",
              "      <td>1.548718</td>\n",
              "      <td>0.403034</td>\n",
              "      <td>-0.407193</td>\n",
              "      <td>0.095921</td>\n",
              "      <td>0.592941</td>\n",
              "      <td>-0.270533</td>\n",
              "      <td>0.817739</td>\n",
              "      <td>0.753074</td>\n",
              "      <td>-0.822843</td>\n",
              "      <td>0.538196</td>\n",
              "      <td>1.345852</td>\n",
              "      <td>-1.119670</td>\n",
              "      <td>0.175121</td>\n",
              "      <td>-0.451449</td>\n",
              "      <td>-0.237033</td>\n",
              "      <td>-0.038195</td>\n",
              "      <td>0.803487</td>\n",
              "      <td>0.408542</td>\n",
              "      <td>-0.009431</td>\n",
              "      <td>0.798278</td>\n",
              "      <td>-0.137458</td>\n",
              "      <td>0.141267</td>\n",
              "      <td>-0.206010</td>\n",
              "      <td>0.502292</td>\n",
              "      <td>0.219422</td>\n",
              "      <td>0.215153</td>\n",
              "      <td>69.99</td>\n",
              "      <td>0</td>\n",
              "    </tr>\n",
              "  </tbody>\n",
              "</table>\n",
              "</div>"
            ],
            "text/plain": [
              "   Time        V1        V2        V3  ...       V27       V28  Amount  Class\n",
              "0   0.0 -1.359807 -0.072781  2.536347  ...  0.133558 -0.021053  149.62      0\n",
              "1   0.0  1.191857  0.266151  0.166480  ... -0.008983  0.014724    2.69      0\n",
              "2   1.0 -1.358354 -1.340163  1.773209  ... -0.055353 -0.059752  378.66      0\n",
              "3   1.0 -0.966272 -0.185226  1.792993  ...  0.062723  0.061458  123.50      0\n",
              "4   2.0 -1.158233  0.877737  1.548718  ...  0.219422  0.215153   69.99      0\n",
              "\n",
              "[5 rows x 31 columns]"
            ]
          },
          "metadata": {
            "tags": []
          },
          "execution_count": 12
        }
      ]
    },
    {
      "cell_type": "markdown",
      "metadata": {
        "id": "WJBIoG7Rt0Dj",
        "colab_type": "text"
      },
      "source": [
        "visualize the data to investigate the frequency of the normal and fraudulent ones"
      ]
    },
    {
      "cell_type": "code",
      "metadata": {
        "id": "nDa3erh-t0Dl",
        "colab_type": "code",
        "colab": {
          "base_uri": "https://localhost:8080/",
          "height": 312
        },
        "outputId": "2d36a496-ef1c-427a-87d0-4cd49aaacdb5"
      },
      "source": [
        "plt.bar(['Normal', 'Fraud'], df['Class'].value_counts(), align='center', alpha=0.5)\n",
        "plt.xlabel('Class')\n",
        "plt.ylabel('Number of observations')\n",
        "plt.title('Frequency by observation number')"
      ],
      "execution_count": 13,
      "outputs": [
        {
          "output_type": "execute_result",
          "data": {
            "text/plain": [
              "Text(0.5, 1.0, 'Frequency by observation number')"
            ]
          },
          "metadata": {
            "tags": []
          },
          "execution_count": 13
        },
        {
          "output_type": "display_data",
          "data": {
            "image/png": "[encoded data removed]",
            "text/plain": [
              "<Figure size 432x288 with 1 Axes>"
            ]
          },
          "metadata": {
            "tags": []
          }
        }
      ]
    },
    {
      "cell_type": "markdown",
      "metadata": {
        "id": "5C-QDD_ut0Dr",
        "colab_type": "text"
      },
      "source": [
        "Split data to normal and fraudulent"
      ]
    },
    {
      "cell_type": "code",
      "metadata": {
        "id": "E9U1-7Uat0Ds",
        "colab_type": "code",
        "colab": {}
      },
      "source": [
        "normal_df = df.loc[df['Class']==0]\n",
        "fraud_df = df.loc[df['Class']==1]\n"
      ],
      "execution_count": 0,
      "outputs": []
    },
    {
      "cell_type": "code",
      "metadata": {
        "id": "OZ2RQkzft0Dy",
        "colab_type": "code",
        "colab": {
          "base_uri": "https://localhost:8080/",
          "height": 170
        },
        "outputId": "a0627cd3-8cef-4cdc-99b7-b6333c77d123"
      },
      "source": [
        "normal_df.Amount.describe()"
      ],
      "execution_count": 15,
      "outputs": [
        {
          "output_type": "execute_result",
          "data": {
            "text/plain": [
              "count    284315.000000\n",
              "mean         88.291022\n",
              "std         250.105092\n",
              "min           0.000000\n",
              "25%           5.650000\n",
              "50%          22.000000\n",
              "75%          77.050000\n",
              "max       25691.160000\n",
              "Name: Amount, dtype: float64"
            ]
          },
          "metadata": {
            "tags": []
          },
          "execution_count": 15
        }
      ]
    },
    {
      "cell_type": "markdown",
      "metadata": {
        "id": "L931WlDJt0D6",
        "colab_type": "text"
      },
      "source": [
        "Normalize the data and generate train and test datasets"
      ]
    },
    {
      "cell_type": "code",
      "metadata": {
        "id": "dfKs7W-Mt0D9",
        "colab_type": "code",
        "colab": {}
      },
      "source": [
        "# normalize the 'Amount' column\n",
        "from sklearn.preprocessing import StandardScaler\n",
        "df['Amount'] = StandardScaler().fit_transform(df['Amount'].values.reshape(-1,1))\n",
        "df = df.drop(['Time'], axis=1)"
      ],
      "execution_count": 0,
      "outputs": []
    },
    {
      "cell_type": "code",
      "metadata": {
        "id": "SOYe0pRICk-C",
        "colab_type": "code",
        "colab": {
          "base_uri": "https://localhost:8080/",
          "height": 85
        },
        "outputId": "b8913957-fed4-479b-f1e2-a5f7e82ce53c"
      },
      "source": [
        "# separate data/result and train/test datasets\n",
        "X = df.iloc[:, df.columns != 'Class']\n",
        "y = df.iloc[:, df.columns == 'Class']\n",
        "from sklearn.model_selection import train_test_split\n",
        "X_train, X_test, y_train, y_test = train_test_split(X,y, test_size = 0.2, random_state=0)\n",
        "print(X_train.shape)\n",
        "print(X_test.shape)\n",
        "print(y_train.shape)\n",
        "print(y_test.shape)"
      ],
      "execution_count": 17,
      "outputs": [
        {
          "output_type": "stream",
          "text": [
            "(227845, 29)\n",
            "(56962, 29)\n",
            "(227845, 1)\n",
            "(56962, 1)\n"
          ],
          "name": "stdout"
        }
      ]
    },
    {
      "cell_type": "markdown",
      "metadata": {
        "id": "l0q7qyomt0EF",
        "colab_type": "text"
      },
      "source": [
        "Generate the auto-encoder model"
      ]
    },
    {
      "cell_type": "code",
      "metadata": {
        "id": "UTMWrX52t0EG",
        "colab_type": "code",
        "colab": {
          "base_uri": "https://localhost:8080/",
          "height": 139
        },
        "outputId": "2f91fea4-71a5-409b-9f7d-a97c04d05394"
      },
      "source": [
        "from keras.models import Model, load_model\n",
        "from keras.layers import Input, Dense\n",
        "from keras.callbacks import ModelCheckpoint, TensorBoard\n",
        "from keras import regularizers\n",
        "\n",
        "input_dim = X_train.shape[1]\n",
        "encoding_dim = 15\n",
        "input_layer = Input(shape=(input_dim, ))\n",
        "encoder = Dense(encoding_dim, activation=\"tanh\", \n",
        "                activity_regularizer=regularizers.l1(10e-5))(input_layer)\n",
        "encoder = Dense(int(encoding_dim / 2), activation=\"relu\")(encoder)\n",
        "decoder = Dense(int(encoding_dim / 2), activation='tanh')(encoder)\n",
        "decoder = Dense(input_dim, activation='relu')(decoder)\n",
        "autoencoder = Model(inputs=input_layer, outputs=decoder)"
      ],
      "execution_count": 18,
      "outputs": [
        {
          "output_type": "stream",
          "text": [
            "WARNING:tensorflow:From /usr/local/lib/python3.6/dist-packages/keras/backend/tensorflow_backend.py:66: The name tf.get_default_graph is deprecated. Please use tf.compat.v1.get_default_graph instead.\n",
            "\n",
            "WARNING:tensorflow:From /usr/local/lib/python3.6/dist-packages/keras/backend/tensorflow_backend.py:541: The name tf.placeholder is deprecated. Please use tf.compat.v1.placeholder instead.\n",
            "\n",
            "WARNING:tensorflow:From /usr/local/lib/python3.6/dist-packages/keras/backend/tensorflow_backend.py:4432: The name tf.random_uniform is deprecated. Please use tf.random.uniform instead.\n",
            "\n"
          ],
          "name": "stdout"
        }
      ]
    },
    {
      "cell_type": "markdown",
      "metadata": {
        "id": "3kvFMVUNt0EL",
        "colab_type": "text"
      },
      "source": [
        "Fit the model"
      ]
    },
    {
      "cell_type": "code",
      "metadata": {
        "id": "rVj7Pk1Rt0EN",
        "colab_type": "code",
        "colab": {
          "base_uri": "https://localhost:8080/",
          "height": 1000
        },
        "outputId": "0448c32a-8618-452a-b6d2-0d6056cf7939"
      },
      "source": [
        "nb_epoch = 100\n",
        "batch_size = 32\n",
        "autoencoder.compile(optimizer='adam', \n",
        "                    loss='mean_squared_error', \n",
        "                    metrics=['accuracy'])\n",
        "checkpointer = ModelCheckpoint(filepath=\"model.h5\",\n",
        "                               verbose=0,\n",
        "                               save_best_only=True)\n",
        "tensorboard = TensorBoard(log_dir='./logs',\n",
        "                          histogram_freq=0,\n",
        "                          write_graph=True,\n",
        "                          write_images=True)\n",
        "history = autoencoder.fit(X_train, X_train,\n",
        "                    epochs=nb_epoch,\n",
        "                    batch_size=batch_size,\n",
        "                    shuffle=True,\n",
        "                    validation_data=(X_test, X_test),\n",
        "                    verbose=1,\n",
        "                    callbacks=[checkpointer, tensorboard]).history"
      ],
      "execution_count": 19,
      "outputs": [
        {
          "output_type": "stream",
          "text": [
            "WARNING:tensorflow:From /usr/local/lib/python3.6/dist-packages/keras/optimizers.py:793: The name tf.train.Optimizer is deprecated. Please use tf.compat.v1.train.Optimizer instead.\n",
            "\n",
            "WARNING:tensorflow:From /usr/local/lib/python3.6/dist-packages/keras/backend/tensorflow_backend.py:1033: The name tf.assign_add is deprecated. Please use tf.compat.v1.assign_add instead.\n",
            "\n",
            "WARNING:tensorflow:From /usr/local/lib/python3.6/dist-packages/keras/backend/tensorflow_backend.py:1020: The name tf.assign is deprecated. Please use tf.compat.v1.assign instead.\n",
            "\n",
            "WARNING:tensorflow:From /usr/local/lib/python3.6/dist-packages/keras/backend/tensorflow_backend.py:3005: The name tf.Session is deprecated. Please use tf.compat.v1.Session instead.\n",
            "\n",
            "Train on 227845 samples, validate on 56962 samples\n",
            "WARNING:tensorflow:From /usr/local/lib/python3.6/dist-packages/keras/backend/tensorflow_backend.py:190: The name tf.get_default_session is deprecated. Please use tf.compat.v1.get_default_session instead.\n",
            "\n",
            "WARNING:tensorflow:From /usr/local/lib/python3.6/dist-packages/keras/backend/tensorflow_backend.py:197: The name tf.ConfigProto is deprecated. Please use tf.compat.v1.ConfigProto instead.\n",
            "\n",
            "WARNING:tensorflow:From /usr/local/lib/python3.6/dist-packages/keras/backend/tensorflow_backend.py:207: The name tf.global_variables is deprecated. Please use tf.compat.v1.global_variables instead.\n",
            "\n",
            "WARNING:tensorflow:From /usr/local/lib/python3.6/dist-packages/keras/backend/tensorflow_backend.py:216: The name tf.is_variable_initialized is deprecated. Please use tf.compat.v1.is_variable_initialized instead.\n",
            "\n",
            "WARNING:tensorflow:From /usr/local/lib/python3.6/dist-packages/keras/backend/tensorflow_backend.py:223: The name tf.variables_initializer is deprecated. Please use tf.compat.v1.variables_initializer instead.\n",
            "\n",
            "WARNING:tensorflow:From /usr/local/lib/python3.6/dist-packages/keras/callbacks.py:1122: The name tf.summary.merge_all is deprecated. Please use tf.compat.v1.summary.merge_all instead.\n",
            "\n",
            "WARNING:tensorflow:From /usr/local/lib/python3.6/dist-packages/keras/callbacks.py:1125: The name tf.summary.FileWriter is deprecated. Please use tf.compat.v1.summary.FileWriter instead.\n",
            "\n",
            "Epoch 1/100\n",
            "227845/227845 [==============================] - 11s 47us/step - loss: 0.8631 - acc: 0.5616 - val_loss: 0.8298 - val_acc: 0.6092\n",
            "WARNING:tensorflow:From /usr/local/lib/python3.6/dist-packages/keras/callbacks.py:1265: The name tf.Summary is deprecated. Please use tf.compat.v1.Summary instead.\n",
            "\n",
            "Epoch 2/100\n",
            "227845/227845 [==============================] - 10s 46us/step - loss: 0.7976 - acc: 0.6185 - val_loss: 0.7991 - val_acc: 0.6461\n",
            "Epoch 3/100\n",
            "227845/227845 [==============================] - 10s 44us/step - loss: 0.7741 - acc: 0.6516 - val_loss: 0.7910 - val_acc: 0.6539\n",
            "Epoch 4/100\n",
            "227845/227845 [==============================] - 10s 44us/step - loss: 0.7678 - acc: 0.6579 - val_loss: 0.7846 - val_acc: 0.6576\n",
            "Epoch 5/100\n",
            "227845/227845 [==============================] - 10s 44us/step - loss: 0.7633 - acc: 0.6634 - val_loss: 0.7816 - val_acc: 0.6676\n",
            "Epoch 6/100\n",
            "227845/227845 [==============================] - 10s 44us/step - loss: 0.7603 - acc: 0.6687 - val_loss: 0.7787 - val_acc: 0.6700\n",
            "Epoch 7/100\n",
            "227845/227845 [==============================] - 10s 44us/step - loss: 0.7584 - acc: 0.6706 - val_loss: 0.7807 - val_acc: 0.6707\n",
            "Epoch 8/100\n",
            "227845/227845 [==============================] - 10s 45us/step - loss: 0.7563 - acc: 0.6729 - val_loss: 0.7771 - val_acc: 0.6707\n",
            "Epoch 9/100\n",
            "227845/227845 [==============================] - 10s 45us/step - loss: 0.7547 - acc: 0.6762 - val_loss: 0.7724 - val_acc: 0.6825\n",
            "Epoch 10/100\n",
            "227845/227845 [==============================] - 10s 44us/step - loss: 0.7536 - acc: 0.6772 - val_loss: 0.7719 - val_acc: 0.6864\n",
            "Epoch 11/100\n",
            "227845/227845 [==============================] - 10s 44us/step - loss: 0.7530 - acc: 0.6787 - val_loss: 0.7726 - val_acc: 0.6747\n",
            "Epoch 12/100\n",
            "227845/227845 [==============================] - 10s 44us/step - loss: 0.7520 - acc: 0.6796 - val_loss: 0.7703 - val_acc: 0.6819\n",
            "Epoch 13/100\n",
            "227845/227845 [==============================] - 9s 42us/step - loss: 0.7512 - acc: 0.6803 - val_loss: 0.7699 - val_acc: 0.6806\n",
            "Epoch 14/100\n",
            "227845/227845 [==============================] - 10s 42us/step - loss: 0.7509 - acc: 0.6803 - val_loss: 0.7689 - val_acc: 0.6849\n",
            "Epoch 15/100\n",
            "227845/227845 [==============================] - 10s 42us/step - loss: 0.7504 - acc: 0.6797 - val_loss: 0.7702 - val_acc: 0.6823\n",
            "Epoch 16/100\n",
            "227845/227845 [==============================] - 10s 44us/step - loss: 0.7500 - acc: 0.6801 - val_loss: 0.7728 - val_acc: 0.6806\n",
            "Epoch 17/100\n",
            "227845/227845 [==============================] - 10s 44us/step - loss: 0.7497 - acc: 0.6803 - val_loss: 0.7681 - val_acc: 0.6875\n",
            "Epoch 18/100\n",
            "227845/227845 [==============================] - 10s 44us/step - loss: 0.7496 - acc: 0.6811 - val_loss: 0.7686 - val_acc: 0.6860\n",
            "Epoch 19/100\n",
            "227845/227845 [==============================] - 10s 44us/step - loss: 0.7490 - acc: 0.6812 - val_loss: 0.7684 - val_acc: 0.6831\n",
            "Epoch 20/100\n",
            "227845/227845 [==============================] - 10s 44us/step - loss: 0.7488 - acc: 0.6809 - val_loss: 0.7661 - val_acc: 0.6898\n",
            "Epoch 21/100\n",
            "227845/227845 [==============================] - 10s 44us/step - loss: 0.7486 - acc: 0.6806 - val_loss: 0.7687 - val_acc: 0.6730\n",
            "Epoch 22/100\n",
            "227845/227845 [==============================] - 10s 43us/step - loss: 0.7484 - acc: 0.6803 - val_loss: 0.7666 - val_acc: 0.6785\n",
            "Epoch 23/100\n",
            "227845/227845 [==============================] - 9s 41us/step - loss: 0.7484 - acc: 0.6800 - val_loss: 0.7658 - val_acc: 0.6825\n",
            "Epoch 24/100\n",
            "227845/227845 [==============================] - 9s 41us/step - loss: 0.7482 - acc: 0.6812 - val_loss: 0.7664 - val_acc: 0.6849\n",
            "Epoch 25/100\n",
            "227845/227845 [==============================] - 10s 42us/step - loss: 0.7481 - acc: 0.6807 - val_loss: 0.7671 - val_acc: 0.6827\n",
            "Epoch 26/100\n",
            "227845/227845 [==============================] - 9s 41us/step - loss: 0.7478 - acc: 0.6818 - val_loss: 0.7651 - val_acc: 0.6848\n",
            "Epoch 27/100\n",
            "227845/227845 [==============================] - 9s 41us/step - loss: 0.7478 - acc: 0.6811 - val_loss: 0.7661 - val_acc: 0.6900\n",
            "Epoch 28/100\n",
            "227845/227845 [==============================] - 10s 42us/step - loss: 0.7478 - acc: 0.6807 - val_loss: 0.7678 - val_acc: 0.6716\n",
            "Epoch 29/100\n",
            "227845/227845 [==============================] - 11s 47us/step - loss: 0.7474 - acc: 0.6812 - val_loss: 0.7657 - val_acc: 0.6851\n",
            "Epoch 30/100\n",
            "227845/227845 [==============================] - 10s 45us/step - loss: 0.7475 - acc: 0.6817 - val_loss: 0.7659 - val_acc: 0.6852\n",
            "Epoch 31/100\n",
            "227845/227845 [==============================] - 11s 47us/step - loss: 0.7475 - acc: 0.6819 - val_loss: 0.7667 - val_acc: 0.6789\n",
            "Epoch 32/100\n",
            "227845/227845 [==============================] - 11s 47us/step - loss: 0.7471 - acc: 0.6818 - val_loss: 0.7655 - val_acc: 0.6839\n",
            "Epoch 33/100\n",
            "227845/227845 [==============================] - 10s 46us/step - loss: 0.7469 - acc: 0.6821 - val_loss: 0.7669 - val_acc: 0.6865\n",
            "Epoch 34/100\n",
            "227845/227845 [==============================] - 10s 43us/step - loss: 0.7469 - acc: 0.6819 - val_loss: 0.7673 - val_acc: 0.6795\n",
            "Epoch 35/100\n",
            "227845/227845 [==============================] - 10s 43us/step - loss: 0.7473 - acc: 0.6822 - val_loss: 0.7690 - val_acc: 0.6828\n",
            "Epoch 36/100\n",
            "227845/227845 [==============================] - 10s 44us/step - loss: 0.7465 - acc: 0.6834 - val_loss: 0.7646 - val_acc: 0.6874\n",
            "Epoch 37/100\n",
            "227845/227845 [==============================] - 10s 45us/step - loss: 0.7465 - acc: 0.6837 - val_loss: 0.7644 - val_acc: 0.6901\n",
            "Epoch 38/100\n",
            "227845/227845 [==============================] - 10s 44us/step - loss: 0.7461 - acc: 0.6845 - val_loss: 0.7643 - val_acc: 0.6905\n",
            "Epoch 39/100\n",
            "227845/227845 [==============================] - 10s 42us/step - loss: 0.7463 - acc: 0.6841 - val_loss: 0.7648 - val_acc: 0.6848\n",
            "Epoch 40/100\n",
            "227845/227845 [==============================] - 10s 43us/step - loss: 0.7462 - acc: 0.6839 - val_loss: 0.7708 - val_acc: 0.6813\n",
            "Epoch 41/100\n",
            "227845/227845 [==============================] - 10s 43us/step - loss: 0.7460 - acc: 0.6840 - val_loss: 0.7645 - val_acc: 0.6903\n",
            "Epoch 42/100\n",
            "227845/227845 [==============================] - 10s 45us/step - loss: 0.7458 - acc: 0.6840 - val_loss: 0.7730 - val_acc: 0.6740\n",
            "Epoch 43/100\n",
            "227845/227845 [==============================] - 10s 45us/step - loss: 0.7462 - acc: 0.6843 - val_loss: 0.7659 - val_acc: 0.6818\n",
            "Epoch 44/100\n",
            "227845/227845 [==============================] - 10s 45us/step - loss: 0.7458 - acc: 0.6851 - val_loss: 0.7746 - val_acc: 0.6827\n",
            "Epoch 45/100\n",
            "227845/227845 [==============================] - 10s 45us/step - loss: 0.7458 - acc: 0.6847 - val_loss: 0.7737 - val_acc: 0.6711\n",
            "Epoch 46/100\n",
            "227845/227845 [==============================] - 10s 46us/step - loss: 0.7458 - acc: 0.6846 - val_loss: 0.7634 - val_acc: 0.6963\n",
            "Epoch 47/100\n",
            "227845/227845 [==============================] - 10s 45us/step - loss: 0.7454 - acc: 0.6847 - val_loss: 0.7635 - val_acc: 0.6901\n",
            "Epoch 48/100\n",
            "227845/227845 [==============================] - 10s 44us/step - loss: 0.7454 - acc: 0.6855 - val_loss: 0.7657 - val_acc: 0.6845\n",
            "Epoch 49/100\n",
            "227845/227845 [==============================] - 10s 44us/step - loss: 0.7451 - acc: 0.6853 - val_loss: 0.7644 - val_acc: 0.6822\n",
            "Epoch 50/100\n",
            "227845/227845 [==============================] - 10s 45us/step - loss: 0.7452 - acc: 0.6853 - val_loss: 0.7646 - val_acc: 0.6843\n",
            "Epoch 51/100\n",
            "227845/227845 [==============================] - 10s 44us/step - loss: 0.7454 - acc: 0.6863 - val_loss: 0.7639 - val_acc: 0.6825\n",
            "Epoch 52/100\n",
            "227845/227845 [==============================] - 10s 45us/step - loss: 0.7449 - acc: 0.6854 - val_loss: 0.7627 - val_acc: 0.6929\n",
            "Epoch 53/100\n",
            "227845/227845 [==============================] - 10s 45us/step - loss: 0.7450 - acc: 0.6862 - val_loss: 0.7668 - val_acc: 0.6771\n",
            "Epoch 54/100\n",
            "227845/227845 [==============================] - 10s 45us/step - loss: 0.7449 - acc: 0.6861 - val_loss: 0.7640 - val_acc: 0.6877\n",
            "Epoch 55/100\n",
            "227845/227845 [==============================] - 10s 46us/step - loss: 0.7451 - acc: 0.6859 - val_loss: 0.7636 - val_acc: 0.6937\n",
            "Epoch 56/100\n",
            "227845/227845 [==============================] - 10s 44us/step - loss: 0.7449 - acc: 0.6857 - val_loss: 0.7693 - val_acc: 0.6766\n",
            "Epoch 57/100\n",
            "227845/227845 [==============================] - 10s 45us/step - loss: 0.7450 - acc: 0.6861 - val_loss: 0.7699 - val_acc: 0.6856\n",
            "Epoch 58/100\n",
            "227845/227845 [==============================] - 10s 46us/step - loss: 0.7449 - acc: 0.6865 - val_loss: 0.7646 - val_acc: 0.6886\n",
            "Epoch 59/100\n",
            "227845/227845 [==============================] - 10s 44us/step - loss: 0.7446 - acc: 0.6863 - val_loss: 0.7703 - val_acc: 0.6850\n",
            "Epoch 60/100\n",
            "227845/227845 [==============================] - 10s 45us/step - loss: 0.7448 - acc: 0.6870 - val_loss: 0.7624 - val_acc: 0.6906\n",
            "Epoch 61/100\n",
            "227845/227845 [==============================] - 10s 46us/step - loss: 0.7446 - acc: 0.6868 - val_loss: 0.7620 - val_acc: 0.6920\n",
            "Epoch 62/100\n",
            "227845/227845 [==============================] - 11s 47us/step - loss: 0.7447 - acc: 0.6876 - val_loss: 0.7623 - val_acc: 0.6882\n",
            "Epoch 63/100\n",
            "227845/227845 [==============================] - 11s 47us/step - loss: 0.7443 - acc: 0.6860 - val_loss: 0.7637 - val_acc: 0.6923\n",
            "Epoch 64/100\n",
            "227845/227845 [==============================] - 11s 46us/step - loss: 0.7444 - acc: 0.6862 - val_loss: 0.7632 - val_acc: 0.6898\n",
            "Epoch 65/100\n",
            "227845/227845 [==============================] - 10s 45us/step - loss: 0.7443 - acc: 0.6862 - val_loss: 0.7629 - val_acc: 0.6839\n",
            "Epoch 66/100\n",
            "227845/227845 [==============================] - 10s 45us/step - loss: 0.7445 - acc: 0.6868 - val_loss: 0.7623 - val_acc: 0.6944\n",
            "Epoch 67/100\n",
            "227845/227845 [==============================] - 10s 44us/step - loss: 0.7439 - acc: 0.6867 - val_loss: 0.7631 - val_acc: 0.6879\n",
            "Epoch 68/100\n",
            "227845/227845 [==============================] - 10s 43us/step - loss: 0.7444 - acc: 0.6873 - val_loss: 0.7632 - val_acc: 0.6968\n",
            "Epoch 69/100\n",
            "227845/227845 [==============================] - 10s 45us/step - loss: 0.7440 - acc: 0.6876 - val_loss: 0.7640 - val_acc: 0.6917\n",
            "Epoch 70/100\n",
            "227845/227845 [==============================] - 10s 46us/step - loss: 0.7444 - acc: 0.6864 - val_loss: 0.7642 - val_acc: 0.6858\n",
            "Epoch 71/100\n",
            "227845/227845 [==============================] - 10s 45us/step - loss: 0.7443 - acc: 0.6868 - val_loss: 0.7620 - val_acc: 0.6888\n",
            "Epoch 72/100\n",
            "227845/227845 [==============================] - 10s 46us/step - loss: 0.7439 - acc: 0.6871 - val_loss: 0.7648 - val_acc: 0.6822\n",
            "Epoch 73/100\n",
            "227845/227845 [==============================] - 10s 46us/step - loss: 0.7440 - acc: 0.6877 - val_loss: 0.7620 - val_acc: 0.6914\n",
            "Epoch 74/100\n",
            "227845/227845 [==============================] - 10s 45us/step - loss: 0.7443 - acc: 0.6873 - val_loss: 0.7618 - val_acc: 0.6918\n",
            "Epoch 75/100\n",
            "227845/227845 [==============================] - 10s 45us/step - loss: 0.7440 - acc: 0.6878 - val_loss: 0.7630 - val_acc: 0.6906\n",
            "Epoch 76/100\n",
            "227845/227845 [==============================] - 10s 45us/step - loss: 0.7439 - acc: 0.6883 - val_loss: 0.7621 - val_acc: 0.6969\n",
            "Epoch 77/100\n",
            "227845/227845 [==============================] - 10s 44us/step - loss: 0.7436 - acc: 0.6886 - val_loss: 0.7616 - val_acc: 0.6926\n",
            "Epoch 78/100\n",
            "227845/227845 [==============================] - 10s 45us/step - loss: 0.7437 - acc: 0.6892 - val_loss: 0.7648 - val_acc: 0.6928\n",
            "Epoch 79/100\n",
            "227845/227845 [==============================] - 10s 45us/step - loss: 0.7438 - acc: 0.6885 - val_loss: 0.7623 - val_acc: 0.6946\n",
            "Epoch 80/100\n",
            "227845/227845 [==============================] - 10s 45us/step - loss: 0.7438 - acc: 0.6890 - val_loss: 0.7616 - val_acc: 0.6925\n",
            "Epoch 81/100\n",
            "227845/227845 [==============================] - 10s 46us/step - loss: 0.7439 - acc: 0.6894 - val_loss: 0.7634 - val_acc: 0.6940\n",
            "Epoch 82/100\n",
            "227845/227845 [==============================] - 10s 45us/step - loss: 0.7432 - acc: 0.6882 - val_loss: 0.7682 - val_acc: 0.6778\n",
            "Epoch 83/100\n",
            "227845/227845 [==============================] - 10s 44us/step - loss: 0.7437 - acc: 0.6883 - val_loss: 0.7637 - val_acc: 0.6896\n",
            "Epoch 84/100\n",
            "227845/227845 [==============================] - 10s 45us/step - loss: 0.7435 - acc: 0.6892 - val_loss: 0.7640 - val_acc: 0.6903\n",
            "Epoch 85/100\n",
            "227845/227845 [==============================] - 10s 44us/step - loss: 0.7434 - acc: 0.6892 - val_loss: 0.7616 - val_acc: 0.6940\n",
            "Epoch 86/100\n",
            "227845/227845 [==============================] - 10s 44us/step - loss: 0.7438 - acc: 0.6895 - val_loss: 0.7631 - val_acc: 0.6901\n",
            "Epoch 87/100\n",
            "227845/227845 [==============================] - 10s 44us/step - loss: 0.7436 - acc: 0.6893 - val_loss: 0.7621 - val_acc: 0.6957\n",
            "Epoch 88/100\n",
            "227845/227845 [==============================] - 10s 45us/step - loss: 0.7432 - acc: 0.6900 - val_loss: 0.7610 - val_acc: 0.6909\n",
            "Epoch 89/100\n",
            "227845/227845 [==============================] - 10s 44us/step - loss: 0.7436 - acc: 0.6896 - val_loss: 0.7613 - val_acc: 0.6946\n",
            "Epoch 90/100\n",
            "227845/227845 [==============================] - 10s 45us/step - loss: 0.7433 - acc: 0.6897 - val_loss: 0.7607 - val_acc: 0.6914\n",
            "Epoch 91/100\n",
            "227845/227845 [==============================] - 10s 45us/step - loss: 0.7430 - acc: 0.6896 - val_loss: 0.7620 - val_acc: 0.6906\n",
            "Epoch 92/100\n",
            "227845/227845 [==============================] - 11s 47us/step - loss: 0.7435 - acc: 0.6892 - val_loss: 0.7664 - val_acc: 0.6921\n",
            "Epoch 93/100\n",
            "227845/227845 [==============================] - 11s 48us/step - loss: 0.7430 - acc: 0.6899 - val_loss: 0.7610 - val_acc: 0.6849\n",
            "Epoch 94/100\n",
            "227845/227845 [==============================] - 10s 44us/step - loss: 0.7435 - acc: 0.6893 - val_loss: 0.7615 - val_acc: 0.6865\n",
            "Epoch 95/100\n",
            "227845/227845 [==============================] - 10s 44us/step - loss: 0.7432 - acc: 0.6894 - val_loss: 0.7609 - val_acc: 0.6955\n",
            "Epoch 96/100\n",
            "227845/227845 [==============================] - 10s 45us/step - loss: 0.7435 - acc: 0.6889 - val_loss: 0.7686 - val_acc: 0.6842\n",
            "Epoch 97/100\n",
            "227845/227845 [==============================] - 10s 45us/step - loss: 0.7435 - acc: 0.6897 - val_loss: 0.7627 - val_acc: 0.6857\n",
            "Epoch 98/100\n",
            "227845/227845 [==============================] - 10s 45us/step - loss: 0.7432 - acc: 0.6895 - val_loss: 0.7609 - val_acc: 0.6942\n",
            "Epoch 99/100\n",
            "227845/227845 [==============================] - 10s 46us/step - loss: 0.7434 - acc: 0.6897 - val_loss: 0.7674 - val_acc: 0.6835\n",
            "Epoch 100/100\n",
            "227845/227845 [==============================] - 10s 44us/step - loss: 0.7432 - acc: 0.6889 - val_loss: 0.7626 - val_acc: 0.6941\n"
          ],
          "name": "stdout"
        }
      ]
    },
    {
      "cell_type": "markdown",
      "metadata": {
        "id": "PAS8Z2fjt0ET",
        "colab_type": "text"
      },
      "source": [
        "Plot loss vs epochs for train and validation"
      ]
    },
    {
      "cell_type": "code",
      "metadata": {
        "id": "ZqtyqUeyt0EU",
        "colab_type": "code",
        "colab": {
          "base_uri": "https://localhost:8080/",
          "height": 295
        },
        "outputId": "0aaf2d7f-8c81-4f32-fda3-9a2f72c58c01"
      },
      "source": [
        "plt.plot(history['loss'])\n",
        "plt.plot(history['val_loss'])\n",
        "plt.title('model loss')\n",
        "plt.ylabel('loss')\n",
        "plt.xlabel('epoch')\n",
        "plt.legend(['train', 'test'], loc='upper right');"
      ],
      "execution_count": 20,
      "outputs": [
        {
          "output_type": "display_data",
          "data": {
            "image/png": "[encoded data removed]",
            "text/plain": [
              "<Figure size 432x288 with 1 Axes>"
            ]
          },
          "metadata": {
            "tags": []
          }
        }
      ]
    },
    {
      "cell_type": "markdown",
      "metadata": {
        "id": "RO28g4RRt0Ea",
        "colab_type": "text"
      },
      "source": [
        "Predict the test data"
      ]
    },
    {
      "cell_type": "code",
      "metadata": {
        "id": "O8EfblPdt0Ec",
        "colab_type": "code",
        "colab": {
          "base_uri": "https://localhost:8080/",
          "height": 297
        },
        "outputId": "15828356-d3d6-4660-9b91-5711608ca408"
      },
      "source": [
        "predictions = autoencoder.predict(X_test)\n",
        "mse = np.mean(np.power(X_test - predictions, 2), axis=1)\n",
        "\n",
        "error_df = pd.DataFrame({'reconstruction_error': mse,\n",
        "                         'true_class': y_test.Class})\n",
        "error_df.describe()"
      ],
      "execution_count": 49,
      "outputs": [
        {
          "output_type": "execute_result",
          "data": {
            "text/html": [
              "<div>\n",
              "<style scoped>\n",
              "    .dataframe tbody tr th:only-of-type {\n",
              "        vertical-align: middle;\n",
              "    }\n",
              "\n",
              "    .dataframe tbody tr th {\n",
              "        vertical-align: top;\n",
              "    }\n",
              "\n",
              "    .dataframe thead th {\n",
              "        text-align: right;\n",
              "    }\n",
              "</style>\n",
              "<table border=\"1\" class=\"dataframe\">\n",
              "  <thead>\n",
              "    <tr style=\"text-align: right;\">\n",
              "      <th></th>\n",
              "      <th>reconstruction_error</th>\n",
              "      <th>true_class</th>\n",
              "    </tr>\n",
              "  </thead>\n",
              "  <tbody>\n",
              "    <tr>\n",
              "      <th>count</th>\n",
              "      <td>56962.000000</td>\n",
              "      <td>56962.000000</td>\n",
              "    </tr>\n",
              "    <tr>\n",
              "      <th>mean</th>\n",
              "      <td>0.756456</td>\n",
              "      <td>0.001773</td>\n",
              "    </tr>\n",
              "    <tr>\n",
              "      <th>std</th>\n",
              "      <td>7.487146</td>\n",
              "      <td>0.042071</td>\n",
              "    </tr>\n",
              "    <tr>\n",
              "      <th>min</th>\n",
              "      <td>0.035091</td>\n",
              "      <td>0.000000</td>\n",
              "    </tr>\n",
              "    <tr>\n",
              "      <th>25%</th>\n",
              "      <td>0.244331</td>\n",
              "      <td>0.000000</td>\n",
              "    </tr>\n",
              "    <tr>\n",
              "      <th>50%</th>\n",
              "      <td>0.397754</td>\n",
              "      <td>0.000000</td>\n",
              "    </tr>\n",
              "    <tr>\n",
              "      <th>75%</th>\n",
              "      <td>0.636458</td>\n",
              "      <td>0.000000</td>\n",
              "    </tr>\n",
              "    <tr>\n",
              "      <th>max</th>\n",
              "      <td>1582.086103</td>\n",
              "      <td>1.000000</td>\n",
              "    </tr>\n",
              "  </tbody>\n",
              "</table>\n",
              "</div>"
            ],
            "text/plain": [
              "       reconstruction_error    true_class\n",
              "count          56962.000000  56962.000000\n",
              "mean               0.756456      0.001773\n",
              "std                7.487146      0.042071\n",
              "min                0.035091      0.000000\n",
              "25%                0.244331      0.000000\n",
              "50%                0.397754      0.000000\n",
              "75%                0.636458      0.000000\n",
              "max             1582.086103      1.000000"
            ]
          },
          "metadata": {
            "tags": []
          },
          "execution_count": 49
        }
      ]
    },
    {
      "cell_type": "code",
      "metadata": {
        "id": "eBnuGh1Bt0Ei",
        "colab_type": "code",
        "colab": {
          "base_uri": "https://localhost:8080/",
          "height": 295
        },
        "outputId": "deb94dd5-0d37-4278-cbc6-26653be92bc3"
      },
      "source": [
        "# plot the ROC curve\n",
        "from sklearn.metrics import auc, roc_curve\n",
        "\n",
        "fpr, tpr, thresholds = roc_curve(error_df.true_class, error_df.reconstruction_error)\n",
        "\n",
        "plt.title('ROC curve')\n",
        "plt.plot(fpr, tpr)\n",
        "plt.plot([0,1],[0,1],'r--')\n",
        "plt.xlim([0, 1])\n",
        "plt.ylim([0, 1])\n",
        "plt.ylabel('True Positive Rate')\n",
        "plt.xlabel('False Positive Rate')\n",
        "plt.show();"
      ],
      "execution_count": 51,
      "outputs": [
        {
          "output_type": "display_data",
          "data": {
            "image/png": "[encoded data removed]",
            "text/plain": [
              "<Figure size 432x288 with 1 Axes>"
            ]
          },
          "metadata": {
            "tags": []
          }
        }
      ]
    }
  ]
}